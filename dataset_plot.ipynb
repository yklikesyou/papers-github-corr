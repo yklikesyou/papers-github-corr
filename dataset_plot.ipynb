{
  "cells": [
    {
      "cell_type": "code",
      "execution_count": 1,
      "metadata": {
        "id": "h3irl9vJwpTc"
      },
      "outputs": [],
      "source": [
        "import os\n",
        "import math\n",
        "import random\n",
        "import csv\n",
        "from pathlib import Path\n",
        "import matplotlib.pyplot as plt\n",
        "import numpy as np"
      ]
    },
    {
      "cell_type": "code",
      "execution_count": 2,
      "metadata": {
        "id": "JV7hN5e0W9_K"
      },
      "outputs": [],
      "source": [
        "def read_csv(csv_path):\n",
        "    with open(csv_path, newline='') as csvfile:\n",
        "        reader = csv.reader(csvfile, delimiter=',', quotechar='|')\n",
        "        csv_data_with_header = [row[:1] + row[-5:] for row in reader]\n",
        "        _csv_header_row = csv_data_with_header[0]\n",
        "        csv_raw_data = csv_data_with_header[1:]\n",
        "\n",
        "    # 정수 데이터가 str로 저장되어 있는 것들을 int로 변환\n",
        "    csv_data = []\n",
        "    for sample in csv_raw_data:\n",
        "        csv_data.append(list(map(int, sample)))\n",
        "\n",
        "    # index 추출\n",
        "    csv_header = dict()\n",
        "    for idx, elem in enumerate(_csv_header_row):\n",
        "        csv_header[elem] = idx\n",
        "\n",
        "    return csv_header, np.array(csv_data)"
      ]
    },
    {
      "cell_type": "markdown",
      "metadata": {
        "id": "aHSvT_O2bUQO"
      },
      "source": [
        "### Data Loading"
      ]
    },
    {
      "cell_type": "code",
      "execution_count": 36,
      "metadata": {
        "id": "hlXQl3KgW913"
      },
      "outputs": [],
      "source": [
        "csv_path_list = [Path(\"2018_final_dataset.csv\")]\n",
        "\n",
        "# csv_path_list = [Path(\"drive/MyDrive/github-corr/2018_final_dataset.csv\"),\n",
        "#                  Path(\"drive/MyDrive/github-corr/2019_final_dataset.csv\"),\n",
        "#                  Path(\"drive/MyDrive/github-corr/2020_final_dataset.csv\")]"
      ]
    },
    {
      "cell_type": "code",
      "execution_count": 37,
      "metadata": {},
      "outputs": [],
      "source": [
        "MIN_STAR = 10\n",
        "MIN_CITATION = 10\n",
        "MAX_STAR = 10000\n",
        "MAX_CITATION = 10000"
      ]
    },
    {
      "cell_type": "code",
      "execution_count": 38,
      "metadata": {
        "colab": {
          "base_uri": "https://localhost:8080/"
        },
        "id": "2j9onRRTW-CT",
        "outputId": "28cf5418-2f90-4b81-a0c9-a4a3828d58fb"
      },
      "outputs": [
        {
          "name": "stdout",
          "output_type": "stream",
          "text": [
            "[[  0. 291.  20.  52.   5.  84.]\n",
            " [  1. 504.  18. 123.  31. 352.]\n",
            " [  2.   9.   2.   0.   1.  11.]]\n",
            "[[  0. 291.  20.  52.   5.  84.]\n",
            " [  1. 504.  18. 123.  31. 352.]\n",
            " [  3. 279.  13.  60.  14. 153.]]\n"
          ]
        }
      ],
      "source": [
        "csv_data = np.empty([0, 6])\n",
        "for _csv_path in csv_path_list:\n",
        "    _, _csv_data = read_csv(_csv_path)\n",
        "    csv_data = np.concatenate((csv_data, _csv_data), axis=0)\n",
        "csv_data = np.asarray(csv_data)\n",
        "\n",
        "print(csv_data[:3])\n",
        "\n",
        "outlier_indices = np.logical_and.reduce((\n",
        "    csv_data[:, 1] <= MAX_STAR,\n",
        "    csv_data[:, 1] >= MIN_STAR,\n",
        "    csv_data[:, -1] <= MAX_CITATION,\n",
        "    csv_data[:, -1] >= MIN_CITATION\n",
        "    ))\n",
        "\n",
        "outlier_csv_data = csv_data[outlier_indices, :]\n",
        "\n",
        "print(outlier_csv_data[:3])"
      ]
    },
    {
      "cell_type": "code",
      "execution_count": 39,
      "metadata": {},
      "outputs": [
        {
          "name": "stdout",
          "output_type": "stream",
          "text": [
            "(194, 6)\n"
          ]
        },
        {
          "data": {
            "text/plain": [
              "<matplotlib.collections.PathCollection at 0x11087fc10>"
            ]
          },
          "execution_count": 39,
          "metadata": {},
          "output_type": "execute_result"
        },
        {
          "data": {
            "image/png": "[encoded data removed]",
            "text/plain": [
              "<Figure size 576x432 with 1 Axes>"
            ]
          },
          "metadata": {
            "needs_background": "light"
          },
          "output_type": "display_data"
        }
      ],
      "source": [
        "fig = plt.figure(figsize=(8,6))\n",
        "ax = fig.add_subplot()\n",
        "\n",
        "print(outlier_csv_data.shape)\n",
        "\n",
        "\n",
        "ax.scatter(np.log10(outlier_csv_data[:, 1]),\n",
        "           np.log10(outlier_csv_data[:, -1]), alpha=0.5)\n",
        "\n",
        "# ax.plot_surface(outlier_csv_data[:, 1],\n",
        "#            outlier_csv_data[:, 3],\n",
        "#            outlier_csv_data[:, -1],\n",
        "#            cmap=\"inferno\", s=5, alpha=0.5)"
      ]
    }
  ],
  "metadata": {
    "accelerator": "GPU",
    "colab": {
      "collapsed_sections": [],
      "name": "github-corr-polynomial-deeplearning.ipynb",
      "provenance": []
    },
    "kernelspec": {
      "display_name": "Python 3.9.5 ('paperswithcode')",
      "language": "python",
      "name": "python3"
    },
    "language_info": {
      "codemirror_mode": {
        "name": "ipython",
        "version": 3
      },
      "file_extension": ".py",
      "mimetype": "text/x-python",
      "name": "python",
      "nbconvert_exporter": "python",
      "pygments_lexer": "ipython3",
      "version": "3.9.5"
    },
    "vscode": {
      "interpreter": {
        "hash": "f490c0452aaca8ad85e84e5a791ccc13d0e3551339a649869e68d151dce8126a"
      }
    }
  },
  "nbformat": 4,
  "nbformat_minor": 0
}
